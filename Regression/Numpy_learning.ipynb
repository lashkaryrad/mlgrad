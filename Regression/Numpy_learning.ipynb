{
 "cells": [
  {
   "cell_type": "markdown",
   "id": "60535f04-bbfd-4577-bad9-a8834a29e302",
   "metadata": {},
   "source": [
    "# Numpy Library"
   ]
  },
  {
   "cell_type": "markdown",
   "id": "27e2ca05-a7f3-47b3-9c82-53bbe20aa1d3",
   "metadata": {},
   "source": [
    "### import Numpy"
   ]
  },
  {
   "cell_type": "code",
   "execution_count": 1,
   "id": "2a4a394c-9c5e-4c1c-b8ee-f7897791fe9a",
   "metadata": {},
   "outputs": [],
   "source": [
    "import numpy as np"
   ]
  },
  {
   "cell_type": "markdown",
   "id": "70e4d682-5205-49d7-af6d-cd08b57281ad",
   "metadata": {},
   "source": [
    "### Do Basic Stuff With Numpy:"
   ]
  },
  {
   "cell_type": "code",
   "execution_count": 2,
   "id": "41c2b85a-0d3a-42cf-acc1-3cd2d811b17d",
   "metadata": {},
   "outputs": [
    {
     "data": {
      "text/plain": [
       "array(5)"
      ]
     },
     "execution_count": 2,
     "metadata": {},
     "output_type": "execute_result"
    }
   ],
   "source": [
    "a = np.array(5)\n",
    "a"
   ]
  },
  {
   "cell_type": "code",
   "execution_count": 3,
   "id": "586e964a-b4e8-407d-acbb-0381e09eea87",
   "metadata": {},
   "outputs": [
    {
     "data": {
      "text/plain": [
       "array([ 0,  1,  2,  3,  4,  5,  6,  7,  8,  9, 10, 11, 12, 13, 14])"
      ]
     },
     "execution_count": 3,
     "metadata": {},
     "output_type": "execute_result"
    }
   ],
   "source": [
    "# create Array To Range (15)\n",
    "a = np.arange(15)\n",
    "a"
   ]
  },
  {
   "cell_type": "code",
   "execution_count": 4,
   "id": "f4b69cfe-3c01-4a70-8f73-4cfc5ab9eefc",
   "metadata": {},
   "outputs": [
    {
     "data": {
      "text/plain": [
       "array([[ 0,  1,  2,  3,  4],\n",
       "       [ 5,  6,  7,  8,  9],\n",
       "       [10, 11, 12, 13, 14]])"
      ]
     },
     "execution_count": 4,
     "metadata": {},
     "output_type": "execute_result"
    }
   ],
   "source": [
    "# Reshape \"a\" to a matrix in Shape 3*5\n",
    "# 3 Rows, 5 columns\n",
    "# It Only works for \"arange()\"\n",
    "\"\"\"\n",
    "a.reshape(3, 5)\n",
    "          |  |\n",
    "     Row <-  -> Columns\n",
    "\"\"\"\n",
    "a.reshape(3, 5)"
   ]
  },
  {
   "cell_type": "code",
   "execution_count": 13,
   "id": "c149c148-9f8b-4bd3-9425-a272dc3b0f3a",
   "metadata": {},
   "outputs": [
    {
     "name": "stdout",
     "output_type": "stream",
     "text": [
      "Shape Of the matrix --> (4, 6)\n",
      "Number Of Dimensions --> 2\n",
      "Size of the matrix --> 24\n",
      "Type of the matrix --> int64\n"
     ]
    }
   ],
   "source": [
    "b = np.arange(24)\n",
    "b = b.reshape(4, 6)\n",
    "\n",
    " # See the shape of the matrix\n",
    "print(f\"Shape Of the matrix --> {b.shape}\")\n",
    "\n",
    "# Number Of Dimensions\n",
    "print(f\"Number Of Dimensions --> {b.ndim}\")\n",
    "\n",
    "# See The Size of the matrix\n",
    "print(f\"Size of the matrix --> {b.size}\")\n",
    "\n",
    "# See The Type of the matrix\n",
    "print(f\"Type of the matrix --> {b.dtype}\")\n"
   ]
  },
  {
   "cell_type": "code",
   "execution_count": 23,
   "id": "d439e499-c045-493f-a6c5-2348d77207b6",
   "metadata": {},
   "outputs": [
    {
     "name": "stdout",
     "output_type": "stream",
     "text": [
      "------ Zeros:\n",
      "[[[0. 0. 0. 0. 0. 0.]\n",
      "  [0. 0. 0. 0. 0. 0.]\n",
      "  [0. 0. 0. 0. 0. 0.]]\n",
      "\n",
      " [[0. 0. 0. 0. 0. 0.]\n",
      "  [0. 0. 0. 0. 0. 0.]\n",
      "  [0. 0. 0. 0. 0. 0.]]]\n",
      "------ Ones:\n",
      "[[[1. 1. 1. 1.]\n",
      "  [1. 1. 1. 1.]]\n",
      "\n",
      " [[1. 1. 1. 1.]\n",
      "  [1. 1. 1. 1.]]\n",
      "\n",
      " [[1. 1. 1. 1.]\n",
      "  [1. 1. 1. 1.]]]\n"
     ]
    }
   ],
   "source": [
    "# Get Zeros and ones\n",
    "z = np.zeros((2, 3, 6))\n",
    "print(\"------ Zeros:\")\n",
    "print(z)\n",
    "\n",
    "# You Can use Ones\n",
    "o = np.ones((3, 2, 4))\n",
    "print(\"------ Ones:\")\n",
    "print(o)"
   ]
  },
  {
   "cell_type": "markdown",
   "id": "f816792c-17d7-4e14-bf58-fe84ede9f87c",
   "metadata": {},
   "source": [
    "### Some Operations:"
   ]
  },
  {
   "cell_type": "code",
   "execution_count": 24,
   "id": "b3877450-2e6b-4225-8b0d-f411702358f0",
   "metadata": {},
   "outputs": [],
   "source": [
    "a = np.array([20, 30, 40, 50])\n",
    "b = np.arange(4)"
   ]
  },
  {
   "cell_type": "code",
   "execution_count": 29,
   "id": "66663814-1b74-489c-8034-754ee61c1310",
   "metadata": {},
   "outputs": [
    {
     "data": {
      "text/plain": [
       "array([  0,  30,  80, 150])"
      ]
     },
     "execution_count": 29,
     "metadata": {},
     "output_type": "execute_result"
    }
   ],
   "source": [
    "c = a * b\n",
    "c"
   ]
  },
  {
   "cell_type": "code",
   "execution_count": 31,
   "id": "75764cd1-b8b8-48e5-b3ff-fa274b108e0c",
   "metadata": {},
   "outputs": [
    {
     "data": {
      "text/plain": [
       "array([False, False,  True,  True])"
      ]
     },
     "execution_count": 31,
     "metadata": {},
     "output_type": "execute_result"
    }
   ],
   "source": [
    "# Check Grater-than.\n",
    "c > 50"
   ]
  },
  {
   "cell_type": "code",
   "execution_count": 36,
   "id": "7a295db1-2cf5-4574-8f2b-b0c6575782c9",
   "metadata": {},
   "outputs": [
    {
     "data": {
      "text/plain": [
       "array([ 0.        , -0.98803162, -0.99388865, -0.71487643])"
      ]
     },
     "execution_count": 36,
     "metadata": {},
     "output_type": "execute_result"
    }
   ],
   "source": [
    "# See The Sine of the Matrix\n",
    "np.sin(c)"
   ]
  },
  {
   "cell_type": "code",
   "execution_count": null,
   "id": "eb7df5e3-f3c6-45db-8d16-de54fbd334e3",
   "metadata": {},
   "outputs": [],
   "source": []
  }
 ],
 "metadata": {
  "kernelspec": {
   "display_name": "Python 3 (ipykernel)",
   "language": "python",
   "name": "python3"
  },
  "language_info": {
   "codemirror_mode": {
    "name": "ipython",
    "version": 3
   },
   "file_extension": ".py",
   "mimetype": "text/x-python",
   "name": "python",
   "nbconvert_exporter": "python",
   "pygments_lexer": "ipython3",
   "version": "3.11.2"
  }
 },
 "nbformat": 4,
 "nbformat_minor": 5
}
