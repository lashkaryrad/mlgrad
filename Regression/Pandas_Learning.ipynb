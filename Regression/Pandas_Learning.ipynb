{
 "cells": [
  {
   "cell_type": "markdown",
   "id": "f42a1d54-b11e-48d3-849a-bcf501023b34",
   "metadata": {},
   "source": [
    "# Pandas"
   ]
  },
  {
   "cell_type": "markdown",
   "id": "7d2b5e9e-428a-4a67-b1eb-81811d4e38dc",
   "metadata": {},
   "source": [
    "### Import Pandas"
   ]
  },
  {
   "cell_type": "code",
   "execution_count": 1,
   "id": "c01fc0bc-1a5a-4cc5-ae8a-afed18e6170a",
   "metadata": {
    "ExecuteTime": {
     "start_time": "2023-05-01T14:11:30.062319Z",
     "end_time": "2023-05-01T14:11:34.233765Z"
    }
   },
   "outputs": [],
   "source": [
    "import pandas as pd # !pip install pandas\n",
    "import numpy as np # !pip install numpy"
   ]
  },
  {
   "cell_type": "markdown",
   "id": "a646cf25-9965-421a-ad6f-c1788e1c7ecc",
   "metadata": {},
   "source": [
    "### Series"
   ]
  },
  {
   "cell_type": "code",
   "execution_count": 2,
   "id": "bc972f82-af11-4920-a5b4-c30551638399",
   "metadata": {
    "ExecuteTime": {
     "start_time": "2023-05-01T14:11:34.232740Z",
     "end_time": "2023-05-01T14:11:34.278128Z"
    }
   },
   "outputs": [
    {
     "data": {
      "text/plain": "0       1\n1       2\n2       3\n3      -4\n4    amir\n5     NaN\n6       0\n7    True\ndtype: object"
     },
     "execution_count": 2,
     "metadata": {},
     "output_type": "execute_result"
    }
   ],
   "source": [
    "pd.Series([1, 2, 3, -4, 'amir', np.nan, 0, True])"
   ]
  },
  {
   "cell_type": "markdown",
   "id": "c10be965-1696-4532-829a-907ad84f4117",
   "metadata": {},
   "source": [
    "### Date"
   ]
  },
  {
   "cell_type": "code",
   "execution_count": 3,
   "id": "ae762445-1d09-4d98-b024-46f543249a40",
   "metadata": {
    "ExecuteTime": {
     "start_time": "2023-05-01T14:11:34.296536Z",
     "end_time": "2023-05-01T14:11:34.356241Z"
    }
   },
   "outputs": [
    {
     "data": {
      "text/plain": "DatetimeIndex(['2023-01-01', '2023-01-02', '2023-01-03', '2023-01-04',\n               '2023-01-05', '2023-01-06'],\n              dtype='datetime64[ns]', freq='D')"
     },
     "execution_count": 3,
     "metadata": {},
     "output_type": "execute_result"
    }
   ],
   "source": [
    "# it will print out the 6 days after 2023/01/01\n",
    "dates = pd.date_range(\"20230101\", periods=6)\n",
    "dates"
   ]
  },
  {
   "cell_type": "markdown",
   "id": "8f6bae4a-2cbf-47dd-a4ca-1aa6fae956c1",
   "metadata": {},
   "source": [
    "### Data Frame"
   ]
  },
  {
   "cell_type": "code",
   "execution_count": 14,
   "id": "b6b29709-c44c-4b79-a7cf-207127c0107a",
   "metadata": {
    "ExecuteTime": {
     "start_time": "2023-05-01T14:48:45.577453Z",
     "end_time": "2023-05-01T14:48:45.601863Z"
    }
   },
   "outputs": [
    {
     "data": {
      "text/plain": "                   A         B         C         D\n2023-01-01 -1.795053 -0.776272  0.024115  0.845279\n2023-01-02  1.958386 -0.880248 -0.087396  2.342846\n2023-01-03 -0.952065  0.261669 -0.078373 -0.161870\n2023-01-04  0.049574  0.365972  1.603120 -0.838498\n2023-01-05 -0.997906 -0.527869  0.526380 -1.541786\n2023-01-06  0.812188 -1.165039 -2.147868  1.085166",
      "text/html": "<div>\n<style scoped>\n    .dataframe tbody tr th:only-of-type {\n        vertical-align: middle;\n    }\n\n    .dataframe tbody tr th {\n        vertical-align: top;\n    }\n\n    .dataframe thead th {\n        text-align: right;\n    }\n</style>\n<table border=\"1\" class=\"dataframe\">\n  <thead>\n    <tr style=\"text-align: right;\">\n      <th></th>\n      <th>A</th>\n      <th>B</th>\n      <th>C</th>\n      <th>D</th>\n    </tr>\n  </thead>\n  <tbody>\n    <tr>\n      <th>2023-01-01</th>\n      <td>-1.795053</td>\n      <td>-0.776272</td>\n      <td>0.024115</td>\n      <td>0.845279</td>\n    </tr>\n    <tr>\n      <th>2023-01-02</th>\n      <td>1.958386</td>\n      <td>-0.880248</td>\n      <td>-0.087396</td>\n      <td>2.342846</td>\n    </tr>\n    <tr>\n      <th>2023-01-03</th>\n      <td>-0.952065</td>\n      <td>0.261669</td>\n      <td>-0.078373</td>\n      <td>-0.161870</td>\n    </tr>\n    <tr>\n      <th>2023-01-04</th>\n      <td>0.049574</td>\n      <td>0.365972</td>\n      <td>1.603120</td>\n      <td>-0.838498</td>\n    </tr>\n    <tr>\n      <th>2023-01-05</th>\n      <td>-0.997906</td>\n      <td>-0.527869</td>\n      <td>0.526380</td>\n      <td>-1.541786</td>\n    </tr>\n    <tr>\n      <th>2023-01-06</th>\n      <td>0.812188</td>\n      <td>-1.165039</td>\n      <td>-2.147868</td>\n      <td>1.085166</td>\n    </tr>\n  </tbody>\n</table>\n</div>"
     },
     "execution_count": 14,
     "metadata": {},
     "output_type": "execute_result"
    }
   ],
   "source": [
    "# Create a DataFrame with 6 row<index>: dates, 4 columns: A-D\n",
    "df = pd.DataFrame(np.random.randn(6, 4), index=dates, columns=[\"A\", \"B\", \"C\", \"D\"])\n",
    "df"
   ]
  },
  {
   "cell_type": "code",
   "execution_count": 24,
   "outputs": [
    {
     "name": "stdout",
     "output_type": "stream",
     "text": [
      "DataFrame Type\n",
      "A    float64\n",
      "B    float64\n",
      "C    float64\n",
      "D    float64\n",
      "dtype: object\n",
      "----------------------\n",
      "'A' Column Type\n",
      "2023-01-01   -1.795053\n",
      "2023-01-02    1.958386\n",
      "2023-01-03   -0.952065\n",
      "2023-01-04    0.049574\n",
      "2023-01-05   -0.997906\n",
      "2023-01-06    0.812188\n",
      "Freq: D, Name: A, dtype: float64\n"
     ]
    }
   ],
   "source": [
    "# Show the Types of DataFrame\n",
    "print(\"DataFrame Type\")\n",
    "print(df.dtypes)\n",
    "print(\"----------------------\")\n",
    "print(\"'A' Column Type\")\n",
    "print(df[\"A\"])"
   ],
   "metadata": {
    "collapsed": false,
    "ExecuteTime": {
     "start_time": "2023-05-01T14:54:02.798788Z",
     "end_time": "2023-05-01T14:54:02.809620Z"
    }
   }
  },
  {
   "cell_type": "code",
   "execution_count": 28,
   "outputs": [
    {
     "data": {
      "text/plain": "                   A         B         C         D\n2023-01-01 -1.795053 -0.776272  0.024115  0.845279\n2023-01-02  1.958386 -0.880248 -0.087396  2.342846",
      "text/html": "<div>\n<style scoped>\n    .dataframe tbody tr th:only-of-type {\n        vertical-align: middle;\n    }\n\n    .dataframe tbody tr th {\n        vertical-align: top;\n    }\n\n    .dataframe thead th {\n        text-align: right;\n    }\n</style>\n<table border=\"1\" class=\"dataframe\">\n  <thead>\n    <tr style=\"text-align: right;\">\n      <th></th>\n      <th>A</th>\n      <th>B</th>\n      <th>C</th>\n      <th>D</th>\n    </tr>\n  </thead>\n  <tbody>\n    <tr>\n      <th>2023-01-01</th>\n      <td>-1.795053</td>\n      <td>-0.776272</td>\n      <td>0.024115</td>\n      <td>0.845279</td>\n    </tr>\n    <tr>\n      <th>2023-01-02</th>\n      <td>1.958386</td>\n      <td>-0.880248</td>\n      <td>-0.087396</td>\n      <td>2.342846</td>\n    </tr>\n  </tbody>\n</table>\n</div>"
     },
     "execution_count": 28,
     "metadata": {},
     "output_type": "execute_result"
    }
   ],
   "source": [
    "# Show the Head of the DataFrame\n",
    "df.head(2)"
   ],
   "metadata": {
    "collapsed": false,
    "ExecuteTime": {
     "start_time": "2023-05-01T14:55:41.578030Z",
     "end_time": "2023-05-01T14:55:41.607581Z"
    }
   }
  },
  {
   "cell_type": "code",
   "execution_count": 29,
   "outputs": [
    {
     "data": {
      "text/plain": "                   A         B         C         D\n2023-01-05 -0.997906 -0.527869  0.526380 -1.541786\n2023-01-06  0.812188 -1.165039 -2.147868  1.085166",
      "text/html": "<div>\n<style scoped>\n    .dataframe tbody tr th:only-of-type {\n        vertical-align: middle;\n    }\n\n    .dataframe tbody tr th {\n        vertical-align: top;\n    }\n\n    .dataframe thead th {\n        text-align: right;\n    }\n</style>\n<table border=\"1\" class=\"dataframe\">\n  <thead>\n    <tr style=\"text-align: right;\">\n      <th></th>\n      <th>A</th>\n      <th>B</th>\n      <th>C</th>\n      <th>D</th>\n    </tr>\n  </thead>\n  <tbody>\n    <tr>\n      <th>2023-01-05</th>\n      <td>-0.997906</td>\n      <td>-0.527869</td>\n      <td>0.526380</td>\n      <td>-1.541786</td>\n    </tr>\n    <tr>\n      <th>2023-01-06</th>\n      <td>0.812188</td>\n      <td>-1.165039</td>\n      <td>-2.147868</td>\n      <td>1.085166</td>\n    </tr>\n  </tbody>\n</table>\n</div>"
     },
     "execution_count": 29,
     "metadata": {},
     "output_type": "execute_result"
    }
   ],
   "source": [
    "# Show the end of the DataFrame\n",
    "df.tail(2)"
   ],
   "metadata": {
    "collapsed": false,
    "ExecuteTime": {
     "start_time": "2023-05-01T14:56:20.353237Z",
     "end_time": "2023-05-01T14:56:20.372354Z"
    }
   }
  },
  {
   "cell_type": "code",
   "execution_count": 31,
   "outputs": [
    {
     "data": {
      "text/plain": "              A         B         C         D\ncount  6.000000  6.000000  6.000000  6.000000\nmean  -0.154146 -0.453631 -0.026670  0.288523\nstd    1.376901  0.629463  1.222334  1.413359\nmin   -1.795053 -1.165039 -2.147868 -1.541786\n25%   -0.986446 -0.854254 -0.085140 -0.669341\n50%   -0.451245 -0.652071 -0.027129  0.341705\n75%    0.621535  0.064285  0.400814  1.025195\nmax    1.958386  0.365972  1.603120  2.342846",
      "text/html": "<div>\n<style scoped>\n    .dataframe tbody tr th:only-of-type {\n        vertical-align: middle;\n    }\n\n    .dataframe tbody tr th {\n        vertical-align: top;\n    }\n\n    .dataframe thead th {\n        text-align: right;\n    }\n</style>\n<table border=\"1\" class=\"dataframe\">\n  <thead>\n    <tr style=\"text-align: right;\">\n      <th></th>\n      <th>A</th>\n      <th>B</th>\n      <th>C</th>\n      <th>D</th>\n    </tr>\n  </thead>\n  <tbody>\n    <tr>\n      <th>count</th>\n      <td>6.000000</td>\n      <td>6.000000</td>\n      <td>6.000000</td>\n      <td>6.000000</td>\n    </tr>\n    <tr>\n      <th>mean</th>\n      <td>-0.154146</td>\n      <td>-0.453631</td>\n      <td>-0.026670</td>\n      <td>0.288523</td>\n    </tr>\n    <tr>\n      <th>std</th>\n      <td>1.376901</td>\n      <td>0.629463</td>\n      <td>1.222334</td>\n      <td>1.413359</td>\n    </tr>\n    <tr>\n      <th>min</th>\n      <td>-1.795053</td>\n      <td>-1.165039</td>\n      <td>-2.147868</td>\n      <td>-1.541786</td>\n    </tr>\n    <tr>\n      <th>25%</th>\n      <td>-0.986446</td>\n      <td>-0.854254</td>\n      <td>-0.085140</td>\n      <td>-0.669341</td>\n    </tr>\n    <tr>\n      <th>50%</th>\n      <td>-0.451245</td>\n      <td>-0.652071</td>\n      <td>-0.027129</td>\n      <td>0.341705</td>\n    </tr>\n    <tr>\n      <th>75%</th>\n      <td>0.621535</td>\n      <td>0.064285</td>\n      <td>0.400814</td>\n      <td>1.025195</td>\n    </tr>\n    <tr>\n      <th>max</th>\n      <td>1.958386</td>\n      <td>0.365972</td>\n      <td>1.603120</td>\n      <td>2.342846</td>\n    </tr>\n  </tbody>\n</table>\n</div>"
     },
     "execution_count": 31,
     "metadata": {},
     "output_type": "execute_result"
    }
   ],
   "source": [
    "# Discribe Whats in the DataFrame\n",
    "df.describe()"
   ],
   "metadata": {
    "collapsed": false,
    "ExecuteTime": {
     "start_time": "2023-05-01T14:58:10.564112Z",
     "end_time": "2023-05-01T14:58:10.621470Z"
    }
   }
  },
  {
   "cell_type": "code",
   "execution_count": null,
   "outputs": [],
   "source": [],
   "metadata": {
    "collapsed": false
   }
  },
  {
   "cell_type": "code",
   "execution_count": null,
   "outputs": [],
   "source": [],
   "metadata": {
    "collapsed": false
   }
  },
  {
   "cell_type": "code",
   "execution_count": null,
   "outputs": [],
   "source": [],
   "metadata": {
    "collapsed": false
   }
  },
  {
   "cell_type": "code",
   "execution_count": null,
   "outputs": [],
   "source": [],
   "metadata": {
    "collapsed": false
   }
  }
 ],
 "metadata": {
  "kernelspec": {
   "display_name": "Python 3 (ipykernel)",
   "language": "python",
   "name": "python3"
  },
  "language_info": {
   "codemirror_mode": {
    "name": "ipython",
    "version": 3
   },
   "file_extension": ".py",
   "mimetype": "text/x-python",
   "name": "python",
   "nbconvert_exporter": "python",
   "pygments_lexer": "ipython3",
   "version": "3.11.3"
  }
 },
 "nbformat": 4,
 "nbformat_minor": 5
}
