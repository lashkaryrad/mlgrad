{
 "cells": [
  {
   "cell_type": "markdown",
   "id": "f42a1d54-b11e-48d3-849a-bcf501023b34",
   "metadata": {},
   "source": [
    "# Pandas"
   ]
  },
  {
   "cell_type": "markdown",
   "id": "7d2b5e9e-428a-4a67-b1eb-81811d4e38dc",
   "metadata": {},
   "source": [
    "### Import Pandas"
   ]
  },
  {
   "cell_type": "code",
   "execution_count": 1,
   "id": "c01fc0bc-1a5a-4cc5-ae8a-afed18e6170a",
   "metadata": {
    "ExecuteTime": {
     "end_time": "2023-05-01T14:11:34.233765Z",
     "start_time": "2023-05-01T14:11:30.062319Z"
    }
   },
   "outputs": [],
   "source": [
    "import pandas as pd # !pip install pandas\n",
    "import numpy as np # !pip install numpy"
   ]
  },
  {
   "cell_type": "markdown",
   "id": "a646cf25-9965-421a-ad6f-c1788e1c7ecc",
   "metadata": {},
   "source": [
    "### Series"
   ]
  },
  {
   "cell_type": "code",
   "execution_count": 2,
   "id": "bc972f82-af11-4920-a5b4-c30551638399",
   "metadata": {
    "ExecuteTime": {
     "end_time": "2023-05-01T14:11:34.278128Z",
     "start_time": "2023-05-01T14:11:34.232740Z"
    }
   },
   "outputs": [
    {
     "data": {
      "text/plain": [
       "0       1\n",
       "1       2\n",
       "2       3\n",
       "3      -4\n",
       "4    amir\n",
       "5     NaN\n",
       "6       0\n",
       "7    True\n",
       "dtype: object"
      ]
     },
     "execution_count": 2,
     "metadata": {},
     "output_type": "execute_result"
    }
   ],
   "source": [
    "pd.Series([1, 2, 3, -4, 'amir', np.nan, 0, True])"
   ]
  },
  {
   "cell_type": "markdown",
   "id": "c10be965-1696-4532-829a-907ad84f4117",
   "metadata": {},
   "source": [
    "### Date"
   ]
  },
  {
   "cell_type": "code",
   "execution_count": 3,
   "id": "ae762445-1d09-4d98-b024-46f543249a40",
   "metadata": {
    "ExecuteTime": {
     "end_time": "2023-05-01T14:11:34.356241Z",
     "start_time": "2023-05-01T14:11:34.296536Z"
    }
   },
   "outputs": [
    {
     "data": {
      "text/plain": [
       "DatetimeIndex(['2023-01-01', '2023-01-02', '2023-01-03', '2023-01-04',\n",
       "               '2023-01-05', '2023-01-06'],\n",
       "              dtype='datetime64[ns]', freq='D')"
      ]
     },
     "execution_count": 3,
     "metadata": {},
     "output_type": "execute_result"
    }
   ],
   "source": [
    "# it will print out the 6 days after 2023/01/01\n",
    "dates = pd.date_range(\"20230101\", periods=6)\n",
    "dates"
   ]
  },
  {
   "cell_type": "markdown",
   "id": "8f6bae4a-2cbf-47dd-a4ca-1aa6fae956c1",
   "metadata": {},
   "source": [
    "### Data Frame"
   ]
  },
  {
   "cell_type": "code",
   "execution_count": 55,
   "id": "b6b29709-c44c-4b79-a7cf-207127c0107a",
   "metadata": {
    "ExecuteTime": {
     "end_time": "2023-05-01T15:11:21.991264Z",
     "start_time": "2023-05-01T15:11:21.972873Z"
    }
   },
   "outputs": [
    {
     "data": {
      "text/html": [
       "<div>\n",
       "<style scoped>\n",
       "    .dataframe tbody tr th:only-of-type {\n",
       "        vertical-align: middle;\n",
       "    }\n",
       "\n",
       "    .dataframe tbody tr th {\n",
       "        vertical-align: top;\n",
       "    }\n",
       "\n",
       "    .dataframe thead th {\n",
       "        text-align: right;\n",
       "    }\n",
       "</style>\n",
       "<table border=\"1\" class=\"dataframe\">\n",
       "  <thead>\n",
       "    <tr style=\"text-align: right;\">\n",
       "      <th></th>\n",
       "      <th>A</th>\n",
       "      <th>B</th>\n",
       "      <th>C</th>\n",
       "      <th>D</th>\n",
       "    </tr>\n",
       "  </thead>\n",
       "  <tbody>\n",
       "    <tr>\n",
       "      <th>2023-01-01</th>\n",
       "      <td>1.679767</td>\n",
       "      <td>-1.984826</td>\n",
       "      <td>-0.000371</td>\n",
       "      <td>0.607297</td>\n",
       "    </tr>\n",
       "    <tr>\n",
       "      <th>2023-01-02</th>\n",
       "      <td>-0.792487</td>\n",
       "      <td>-1.225349</td>\n",
       "      <td>-0.214858</td>\n",
       "      <td>0.031325</td>\n",
       "    </tr>\n",
       "    <tr>\n",
       "      <th>2023-01-03</th>\n",
       "      <td>-0.340467</td>\n",
       "      <td>0.145488</td>\n",
       "      <td>0.048926</td>\n",
       "      <td>0.675969</td>\n",
       "    </tr>\n",
       "    <tr>\n",
       "      <th>2023-01-04</th>\n",
       "      <td>-0.684253</td>\n",
       "      <td>-1.352489</td>\n",
       "      <td>0.100804</td>\n",
       "      <td>2.276624</td>\n",
       "    </tr>\n",
       "    <tr>\n",
       "      <th>2023-01-05</th>\n",
       "      <td>-0.452067</td>\n",
       "      <td>-1.591227</td>\n",
       "      <td>-0.156161</td>\n",
       "      <td>0.678262</td>\n",
       "    </tr>\n",
       "    <tr>\n",
       "      <th>2023-01-06</th>\n",
       "      <td>-0.132161</td>\n",
       "      <td>1.152605</td>\n",
       "      <td>-0.388330</td>\n",
       "      <td>-0.751013</td>\n",
       "    </tr>\n",
       "  </tbody>\n",
       "</table>\n",
       "</div>"
      ],
      "text/plain": [
       "                   A         B         C         D\n",
       "2023-01-01  1.679767 -1.984826 -0.000371  0.607297\n",
       "2023-01-02 -0.792487 -1.225349 -0.214858  0.031325\n",
       "2023-01-03 -0.340467  0.145488  0.048926  0.675969\n",
       "2023-01-04 -0.684253 -1.352489  0.100804  2.276624\n",
       "2023-01-05 -0.452067 -1.591227 -0.156161  0.678262\n",
       "2023-01-06 -0.132161  1.152605 -0.388330 -0.751013"
      ]
     },
     "execution_count": 55,
     "metadata": {},
     "output_type": "execute_result"
    }
   ],
   "source": [
    "# Create a DataFrame with 6 row<index>: dates, 4 columns: A-D\n",
    "df = pd.DataFrame(np.random.randn(6, 4), index=dates, columns=[\"A\", \"B\", \"C\", \"D\"])\n",
    "df"
   ]
  },
  {
   "cell_type": "code",
   "execution_count": 56,
   "id": "97b69ec9",
   "metadata": {
    "ExecuteTime": {
     "end_time": "2023-05-01T15:11:22.628816Z",
     "start_time": "2023-05-01T15:11:22.598869Z"
    },
    "collapsed": false,
    "jupyter": {
     "outputs_hidden": false
    }
   },
   "outputs": [
    {
     "name": "stdout",
     "output_type": "stream",
     "text": [
      "DataFrame Type\n",
      "A    float64\n",
      "B    float64\n",
      "C    float64\n",
      "D    float64\n",
      "dtype: object\n",
      "----------------------\n",
      "'A' Column Type\n",
      "2023-01-01    1.679767\n",
      "2023-01-02   -0.792487\n",
      "2023-01-03   -0.340467\n",
      "2023-01-04   -0.684253\n",
      "2023-01-05   -0.452067\n",
      "2023-01-06   -0.132161\n",
      "Freq: D, Name: A, dtype: float64\n"
     ]
    }
   ],
   "source": [
    "# Show the Types of DataFrame\n",
    "print(\"DataFrame Type\")\n",
    "print(df.dtypes)\n",
    "print(\"----------------------\")\n",
    "print(\"'A' Column Type\")\n",
    "print(df[\"A\"])"
   ]
  },
  {
   "cell_type": "code",
   "execution_count": 57,
   "id": "78cc01da",
   "metadata": {
    "ExecuteTime": {
     "end_time": "2023-05-01T15:11:23.278147Z",
     "start_time": "2023-05-01T15:11:23.197741Z"
    },
    "collapsed": false,
    "jupyter": {
     "outputs_hidden": false
    }
   },
   "outputs": [
    {
     "data": {
      "text/html": [
       "<div>\n",
       "<style scoped>\n",
       "    .dataframe tbody tr th:only-of-type {\n",
       "        vertical-align: middle;\n",
       "    }\n",
       "\n",
       "    .dataframe tbody tr th {\n",
       "        vertical-align: top;\n",
       "    }\n",
       "\n",
       "    .dataframe thead th {\n",
       "        text-align: right;\n",
       "    }\n",
       "</style>\n",
       "<table border=\"1\" class=\"dataframe\">\n",
       "  <thead>\n",
       "    <tr style=\"text-align: right;\">\n",
       "      <th></th>\n",
       "      <th>A</th>\n",
       "      <th>B</th>\n",
       "      <th>C</th>\n",
       "      <th>D</th>\n",
       "    </tr>\n",
       "  </thead>\n",
       "  <tbody>\n",
       "    <tr>\n",
       "      <th>2023-01-01</th>\n",
       "      <td>1.679767</td>\n",
       "      <td>-1.984826</td>\n",
       "      <td>-0.000371</td>\n",
       "      <td>0.607297</td>\n",
       "    </tr>\n",
       "    <tr>\n",
       "      <th>2023-01-02</th>\n",
       "      <td>-0.792487</td>\n",
       "      <td>-1.225349</td>\n",
       "      <td>-0.214858</td>\n",
       "      <td>0.031325</td>\n",
       "    </tr>\n",
       "  </tbody>\n",
       "</table>\n",
       "</div>"
      ],
      "text/plain": [
       "                   A         B         C         D\n",
       "2023-01-01  1.679767 -1.984826 -0.000371  0.607297\n",
       "2023-01-02 -0.792487 -1.225349 -0.214858  0.031325"
      ]
     },
     "execution_count": 57,
     "metadata": {},
     "output_type": "execute_result"
    }
   ],
   "source": [
    "# Show the Head of the DataFrame\n",
    "df.head(2)"
   ]
  },
  {
   "cell_type": "code",
   "execution_count": 58,
   "id": "71ed5db4",
   "metadata": {
    "ExecuteTime": {
     "end_time": "2023-05-01T15:11:25.561222Z",
     "start_time": "2023-05-01T15:11:25.531137Z"
    },
    "collapsed": false,
    "jupyter": {
     "outputs_hidden": false
    }
   },
   "outputs": [
    {
     "data": {
      "text/html": [
       "<div>\n",
       "<style scoped>\n",
       "    .dataframe tbody tr th:only-of-type {\n",
       "        vertical-align: middle;\n",
       "    }\n",
       "\n",
       "    .dataframe tbody tr th {\n",
       "        vertical-align: top;\n",
       "    }\n",
       "\n",
       "    .dataframe thead th {\n",
       "        text-align: right;\n",
       "    }\n",
       "</style>\n",
       "<table border=\"1\" class=\"dataframe\">\n",
       "  <thead>\n",
       "    <tr style=\"text-align: right;\">\n",
       "      <th></th>\n",
       "      <th>A</th>\n",
       "      <th>B</th>\n",
       "      <th>C</th>\n",
       "      <th>D</th>\n",
       "    </tr>\n",
       "  </thead>\n",
       "  <tbody>\n",
       "    <tr>\n",
       "      <th>2023-01-05</th>\n",
       "      <td>-0.452067</td>\n",
       "      <td>-1.591227</td>\n",
       "      <td>-0.156161</td>\n",
       "      <td>0.678262</td>\n",
       "    </tr>\n",
       "    <tr>\n",
       "      <th>2023-01-06</th>\n",
       "      <td>-0.132161</td>\n",
       "      <td>1.152605</td>\n",
       "      <td>-0.388330</td>\n",
       "      <td>-0.751013</td>\n",
       "    </tr>\n",
       "  </tbody>\n",
       "</table>\n",
       "</div>"
      ],
      "text/plain": [
       "                   A         B         C         D\n",
       "2023-01-05 -0.452067 -1.591227 -0.156161  0.678262\n",
       "2023-01-06 -0.132161  1.152605 -0.388330 -0.751013"
      ]
     },
     "execution_count": 58,
     "metadata": {},
     "output_type": "execute_result"
    }
   ],
   "source": [
    "# Show the end of the DataFrame\n",
    "df.tail(2)"
   ]
  },
  {
   "cell_type": "code",
   "execution_count": 59,
   "id": "7f46ad24",
   "metadata": {
    "ExecuteTime": {
     "end_time": "2023-05-01T15:11:26.788050Z",
     "start_time": "2023-05-01T15:11:26.754505Z"
    },
    "collapsed": false,
    "jupyter": {
     "outputs_hidden": false
    }
   },
   "outputs": [
    {
     "data": {
      "text/html": [
       "<div>\n",
       "<style scoped>\n",
       "    .dataframe tbody tr th:only-of-type {\n",
       "        vertical-align: middle;\n",
       "    }\n",
       "\n",
       "    .dataframe tbody tr th {\n",
       "        vertical-align: top;\n",
       "    }\n",
       "\n",
       "    .dataframe thead th {\n",
       "        text-align: right;\n",
       "    }\n",
       "</style>\n",
       "<table border=\"1\" class=\"dataframe\">\n",
       "  <thead>\n",
       "    <tr style=\"text-align: right;\">\n",
       "      <th></th>\n",
       "      <th>A</th>\n",
       "      <th>B</th>\n",
       "      <th>C</th>\n",
       "      <th>D</th>\n",
       "    </tr>\n",
       "  </thead>\n",
       "  <tbody>\n",
       "    <tr>\n",
       "      <th>count</th>\n",
       "      <td>6.000000</td>\n",
       "      <td>6.000000</td>\n",
       "      <td>6.000000</td>\n",
       "      <td>6.000000</td>\n",
       "    </tr>\n",
       "    <tr>\n",
       "      <th>mean</th>\n",
       "      <td>-0.120278</td>\n",
       "      <td>-0.809300</td>\n",
       "      <td>-0.101665</td>\n",
       "      <td>0.586411</td>\n",
       "    </tr>\n",
       "    <tr>\n",
       "      <th>std</th>\n",
       "      <td>0.913105</td>\n",
       "      <td>1.201841</td>\n",
       "      <td>0.185414</td>\n",
       "      <td>0.997049</td>\n",
       "    </tr>\n",
       "    <tr>\n",
       "      <th>min</th>\n",
       "      <td>-0.792487</td>\n",
       "      <td>-1.984826</td>\n",
       "      <td>-0.388330</td>\n",
       "      <td>-0.751013</td>\n",
       "    </tr>\n",
       "    <tr>\n",
       "      <th>25%</th>\n",
       "      <td>-0.626207</td>\n",
       "      <td>-1.531542</td>\n",
       "      <td>-0.200183</td>\n",
       "      <td>0.175318</td>\n",
       "    </tr>\n",
       "    <tr>\n",
       "      <th>50%</th>\n",
       "      <td>-0.396267</td>\n",
       "      <td>-1.288919</td>\n",
       "      <td>-0.078266</td>\n",
       "      <td>0.641633</td>\n",
       "    </tr>\n",
       "    <tr>\n",
       "      <th>75%</th>\n",
       "      <td>-0.184238</td>\n",
       "      <td>-0.197221</td>\n",
       "      <td>0.036602</td>\n",
       "      <td>0.677689</td>\n",
       "    </tr>\n",
       "    <tr>\n",
       "      <th>max</th>\n",
       "      <td>1.679767</td>\n",
       "      <td>1.152605</td>\n",
       "      <td>0.100804</td>\n",
       "      <td>2.276624</td>\n",
       "    </tr>\n",
       "  </tbody>\n",
       "</table>\n",
       "</div>"
      ],
      "text/plain": [
       "              A         B         C         D\n",
       "count  6.000000  6.000000  6.000000  6.000000\n",
       "mean  -0.120278 -0.809300 -0.101665  0.586411\n",
       "std    0.913105  1.201841  0.185414  0.997049\n",
       "min   -0.792487 -1.984826 -0.388330 -0.751013\n",
       "25%   -0.626207 -1.531542 -0.200183  0.175318\n",
       "50%   -0.396267 -1.288919 -0.078266  0.641633\n",
       "75%   -0.184238 -0.197221  0.036602  0.677689\n",
       "max    1.679767  1.152605  0.100804  2.276624"
      ]
     },
     "execution_count": 59,
     "metadata": {},
     "output_type": "execute_result"
    }
   ],
   "source": [
    "# Explain Whats in the DataFrame\n",
    "df.describe()"
   ]
  },
  {
   "cell_type": "code",
   "execution_count": 60,
   "id": "e8210947",
   "metadata": {
    "ExecuteTime": {
     "end_time": "2023-05-01T15:11:28.678205Z",
     "start_time": "2023-05-01T15:11:28.646133Z"
    },
    "collapsed": false,
    "jupyter": {
     "outputs_hidden": false
    }
   },
   "outputs": [
    {
     "data": {
      "text/plain": [
       "A   -0.120278\n",
       "B   -0.809300\n",
       "C   -0.101665\n",
       "D    0.586411\n",
       "dtype: float64"
      ]
     },
     "execution_count": 60,
     "metadata": {},
     "output_type": "execute_result"
    }
   ],
   "source": [
    "# get the mean of the each column\n",
    "\"\"\"Also you can see only one column:\n",
    "df[<name of the column>].mean()\n",
    "OR\n",
    "df[0:3].mean()\n",
    "\"\"\"\n",
    "df.mean()"
   ]
  },
  {
   "cell_type": "code",
   "execution_count": 63,
   "id": "ba1e4f92",
   "metadata": {
    "ExecuteTime": {
     "end_time": "2023-05-01T15:11:43.550491Z",
     "start_time": "2023-05-01T15:11:43.533393Z"
    },
    "collapsed": false,
    "jupyter": {
     "outputs_hidden": false
    }
   },
   "outputs": [
    {
     "data": {
      "text/html": [
       "<div>\n",
       "<style scoped>\n",
       "    .dataframe tbody tr th:only-of-type {\n",
       "        vertical-align: middle;\n",
       "    }\n",
       "\n",
       "    .dataframe tbody tr th {\n",
       "        vertical-align: top;\n",
       "    }\n",
       "\n",
       "    .dataframe thead th {\n",
       "        text-align: right;\n",
       "    }\n",
       "</style>\n",
       "<table border=\"1\" class=\"dataframe\">\n",
       "  <thead>\n",
       "    <tr style=\"text-align: right;\">\n",
       "      <th></th>\n",
       "      <th>2023-01-01</th>\n",
       "      <th>2023-01-02</th>\n",
       "      <th>2023-01-03</th>\n",
       "      <th>2023-01-04</th>\n",
       "      <th>2023-01-05</th>\n",
       "      <th>2023-01-06</th>\n",
       "    </tr>\n",
       "  </thead>\n",
       "  <tbody>\n",
       "    <tr>\n",
       "      <th>A</th>\n",
       "      <td>1.679767</td>\n",
       "      <td>-0.792487</td>\n",
       "      <td>-0.340467</td>\n",
       "      <td>-0.684253</td>\n",
       "      <td>-0.452067</td>\n",
       "      <td>-0.132161</td>\n",
       "    </tr>\n",
       "    <tr>\n",
       "      <th>B</th>\n",
       "      <td>-1.984826</td>\n",
       "      <td>-1.225349</td>\n",
       "      <td>0.145488</td>\n",
       "      <td>-1.352489</td>\n",
       "      <td>-1.591227</td>\n",
       "      <td>1.152605</td>\n",
       "    </tr>\n",
       "    <tr>\n",
       "      <th>C</th>\n",
       "      <td>-0.000371</td>\n",
       "      <td>-0.214858</td>\n",
       "      <td>0.048926</td>\n",
       "      <td>0.100804</td>\n",
       "      <td>-0.156161</td>\n",
       "      <td>-0.388330</td>\n",
       "    </tr>\n",
       "    <tr>\n",
       "      <th>D</th>\n",
       "      <td>0.607297</td>\n",
       "      <td>0.031325</td>\n",
       "      <td>0.675969</td>\n",
       "      <td>2.276624</td>\n",
       "      <td>0.678262</td>\n",
       "      <td>-0.751013</td>\n",
       "    </tr>\n",
       "  </tbody>\n",
       "</table>\n",
       "</div>"
      ],
      "text/plain": [
       "   2023-01-01  2023-01-02  2023-01-03  2023-01-04  2023-01-05  2023-01-06\n",
       "A    1.679767   -0.792487   -0.340467   -0.684253   -0.452067   -0.132161\n",
       "B   -1.984826   -1.225349    0.145488   -1.352489   -1.591227    1.152605\n",
       "C   -0.000371   -0.214858    0.048926    0.100804   -0.156161   -0.388330\n",
       "D    0.607297    0.031325    0.675969    2.276624    0.678262   -0.751013"
      ]
     },
     "execution_count": 63,
     "metadata": {},
     "output_type": "execute_result"
    }
   ],
   "source": [
    "# Transpose the element of the DataFrame\n",
    "df.T"
   ]
  },
  {
   "cell_type": "code",
   "execution_count": 65,
   "id": "8c382c42",
   "metadata": {
    "ExecuteTime": {
     "start_time": "2023-05-01T15:16:56.347839Z",
     "end_time": "2023-05-01T15:16:56.376661Z"
    },
    "collapsed": false,
    "jupyter": {
     "outputs_hidden": false
    }
   },
   "outputs": [
    {
     "data": {
      "text/plain": "                   A         B         C         D\n2023-01-01  1.679767 -1.984826 -0.000371  0.607297\n2023-01-05 -0.452067 -1.591227 -0.156161  0.678262\n2023-01-04 -0.684253 -1.352489  0.100804  2.276624\n2023-01-02 -0.792487 -1.225349 -0.214858  0.031325\n2023-01-03 -0.340467  0.145488  0.048926  0.675969\n2023-01-06 -0.132161  1.152605 -0.388330 -0.751013",
      "text/html": "<div>\n<style scoped>\n    .dataframe tbody tr th:only-of-type {\n        vertical-align: middle;\n    }\n\n    .dataframe tbody tr th {\n        vertical-align: top;\n    }\n\n    .dataframe thead th {\n        text-align: right;\n    }\n</style>\n<table border=\"1\" class=\"dataframe\">\n  <thead>\n    <tr style=\"text-align: right;\">\n      <th></th>\n      <th>A</th>\n      <th>B</th>\n      <th>C</th>\n      <th>D</th>\n    </tr>\n  </thead>\n  <tbody>\n    <tr>\n      <th>2023-01-01</th>\n      <td>1.679767</td>\n      <td>-1.984826</td>\n      <td>-0.000371</td>\n      <td>0.607297</td>\n    </tr>\n    <tr>\n      <th>2023-01-05</th>\n      <td>-0.452067</td>\n      <td>-1.591227</td>\n      <td>-0.156161</td>\n      <td>0.678262</td>\n    </tr>\n    <tr>\n      <th>2023-01-04</th>\n      <td>-0.684253</td>\n      <td>-1.352489</td>\n      <td>0.100804</td>\n      <td>2.276624</td>\n    </tr>\n    <tr>\n      <th>2023-01-02</th>\n      <td>-0.792487</td>\n      <td>-1.225349</td>\n      <td>-0.214858</td>\n      <td>0.031325</td>\n    </tr>\n    <tr>\n      <th>2023-01-03</th>\n      <td>-0.340467</td>\n      <td>0.145488</td>\n      <td>0.048926</td>\n      <td>0.675969</td>\n    </tr>\n    <tr>\n      <th>2023-01-06</th>\n      <td>-0.132161</td>\n      <td>1.152605</td>\n      <td>-0.388330</td>\n      <td>-0.751013</td>\n    </tr>\n  </tbody>\n</table>\n</div>"
     },
     "execution_count": 65,
     "metadata": {},
     "output_type": "execute_result"
    }
   ],
   "source": [
    "df.sort_values(by=\"B\")"
   ]
  },
  {
   "cell_type": "code",
   "execution_count": 66,
   "id": "be63fb5d",
   "metadata": {
    "collapsed": false,
    "jupyter": {
     "outputs_hidden": false
    },
    "ExecuteTime": {
     "start_time": "2023-05-01T15:19:17.049803Z",
     "end_time": "2023-05-01T15:19:17.066172Z"
    }
   },
   "outputs": [
    {
     "data": {
      "text/plain": "                   A         B         C         D\n2023-01-01  1.679767 -1.984826 -0.000371  0.607297",
      "text/html": "<div>\n<style scoped>\n    .dataframe tbody tr th:only-of-type {\n        vertical-align: middle;\n    }\n\n    .dataframe tbody tr th {\n        vertical-align: top;\n    }\n\n    .dataframe thead th {\n        text-align: right;\n    }\n</style>\n<table border=\"1\" class=\"dataframe\">\n  <thead>\n    <tr style=\"text-align: right;\">\n      <th></th>\n      <th>A</th>\n      <th>B</th>\n      <th>C</th>\n      <th>D</th>\n    </tr>\n  </thead>\n  <tbody>\n    <tr>\n      <th>2023-01-01</th>\n      <td>1.679767</td>\n      <td>-1.984826</td>\n      <td>-0.000371</td>\n      <td>0.607297</td>\n    </tr>\n  </tbody>\n</table>\n</div>"
     },
     "execution_count": 66,
     "metadata": {},
     "output_type": "execute_result"
    }
   ],
   "source": [
    "# Show the rows that \"A\" Columns is Bigger Than 0\n",
    "df[df[\"A\"] > 0]"
   ]
  },
  {
   "cell_type": "markdown",
   "source": [
    "### Write Operations"
   ],
   "metadata": {
    "collapsed": false
   }
  },
  {
   "cell_type": "code",
   "execution_count": 79,
   "outputs": [],
   "source": [
    "# Export DataFrame To a CSV file\n",
    "df.to_csv(\"/tmp/export.csv\")\n",
    "# Export DataFrame To a excel file\n",
    "df.to_excel(\"/tmp/export.xlsx\") # !pip install openpyxl"
   ],
   "metadata": {
    "collapsed": false,
    "ExecuteTime": {
     "start_time": "2023-05-01T15:38:34.664963Z",
     "end_time": "2023-05-01T15:38:34.709597Z"
    }
   }
  }
 ],
 "metadata": {
  "kernelspec": {
   "display_name": "Python 3 (ipykernel)",
   "language": "python",
   "name": "python3"
  },
  "language_info": {
   "codemirror_mode": {
    "name": "ipython",
    "version": 3
   },
   "file_extension": ".py",
   "mimetype": "text/x-python",
   "name": "python",
   "nbconvert_exporter": "python",
   "pygments_lexer": "ipython3",
   "version": "3.11.3"
  }
 },
 "nbformat": 4,
 "nbformat_minor": 5
}
