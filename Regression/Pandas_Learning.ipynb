{
 "cells": [
  {
   "cell_type": "markdown",
   "id": "f42a1d54-b11e-48d3-849a-bcf501023b34",
   "metadata": {},
   "source": [
    "# Pandas"
   ]
  },
  {
   "cell_type": "markdown",
   "id": "7d2b5e9e-428a-4a67-b1eb-81811d4e38dc",
   "metadata": {},
   "source": [
    "### Import Pandas"
   ]
  },
  {
   "cell_type": "code",
   "execution_count": 1,
   "id": "c01fc0bc-1a5a-4cc5-ae8a-afed18e6170a",
   "metadata": {
    "ExecuteTime": {
     "start_time": "2023-05-01T14:11:30.062319Z",
     "end_time": "2023-05-01T14:11:34.233765Z"
    }
   },
   "outputs": [],
   "source": [
    "import pandas as pd # !pip install pandas\n",
    "import numpy as np # !pip install numpy"
   ]
  },
  {
   "cell_type": "markdown",
   "id": "a646cf25-9965-421a-ad6f-c1788e1c7ecc",
   "metadata": {},
   "source": [
    "### Series"
   ]
  },
  {
   "cell_type": "code",
   "execution_count": 2,
   "id": "bc972f82-af11-4920-a5b4-c30551638399",
   "metadata": {
    "ExecuteTime": {
     "start_time": "2023-05-01T14:11:34.232740Z",
     "end_time": "2023-05-01T14:11:34.278128Z"
    }
   },
   "outputs": [
    {
     "data": {
      "text/plain": "0       1\n1       2\n2       3\n3      -4\n4    amir\n5     NaN\n6       0\n7    True\ndtype: object"
     },
     "execution_count": 2,
     "metadata": {},
     "output_type": "execute_result"
    }
   ],
   "source": [
    "pd.Series([1, 2, 3, -4, 'amir', np.nan, 0, True])"
   ]
  },
  {
   "cell_type": "markdown",
   "id": "c10be965-1696-4532-829a-907ad84f4117",
   "metadata": {},
   "source": [
    "### Date"
   ]
  },
  {
   "cell_type": "code",
   "execution_count": 3,
   "id": "ae762445-1d09-4d98-b024-46f543249a40",
   "metadata": {
    "ExecuteTime": {
     "start_time": "2023-05-01T14:11:34.296536Z",
     "end_time": "2023-05-01T14:11:34.356241Z"
    }
   },
   "outputs": [
    {
     "data": {
      "text/plain": "DatetimeIndex(['2023-01-01', '2023-01-02', '2023-01-03', '2023-01-04',\n               '2023-01-05', '2023-01-06'],\n              dtype='datetime64[ns]', freq='D')"
     },
     "execution_count": 3,
     "metadata": {},
     "output_type": "execute_result"
    }
   ],
   "source": [
    "# it will print out the 6 days after 2023/01/01\n",
    "dates = pd.date_range(\"20230101\", periods=6)\n",
    "dates"
   ]
  },
  {
   "cell_type": "markdown",
   "id": "8f6bae4a-2cbf-47dd-a4ca-1aa6fae956c1",
   "metadata": {},
   "source": [
    "### Data Frame"
   ]
  },
  {
   "cell_type": "code",
   "execution_count": 7,
   "id": "b6b29709-c44c-4b79-a7cf-207127c0107a",
   "metadata": {
    "ExecuteTime": {
     "start_time": "2023-05-01T14:13:38.773056Z",
     "end_time": "2023-05-01T14:13:38.799096Z"
    }
   },
   "outputs": [
    {
     "data": {
      "text/plain": "          0         1         2         3\n0  0.667663  0.452690 -0.665653  0.019725\n1  0.948500  0.184025 -2.428781 -1.246577\n2 -0.001080  0.743982  0.181609  0.222211\n3  1.128793  1.311737  0.413221 -0.407329\n4  0.642964  0.245997 -1.016977 -1.146116\n5 -0.497794 -0.924391 -0.753743  1.559041",
      "text/html": "<div>\n<style scoped>\n    .dataframe tbody tr th:only-of-type {\n        vertical-align: middle;\n    }\n\n    .dataframe tbody tr th {\n        vertical-align: top;\n    }\n\n    .dataframe thead th {\n        text-align: right;\n    }\n</style>\n<table border=\"1\" class=\"dataframe\">\n  <thead>\n    <tr style=\"text-align: right;\">\n      <th></th>\n      <th>0</th>\n      <th>1</th>\n      <th>2</th>\n      <th>3</th>\n    </tr>\n  </thead>\n  <tbody>\n    <tr>\n      <th>0</th>\n      <td>0.667663</td>\n      <td>0.452690</td>\n      <td>-0.665653</td>\n      <td>0.019725</td>\n    </tr>\n    <tr>\n      <th>1</th>\n      <td>0.948500</td>\n      <td>0.184025</td>\n      <td>-2.428781</td>\n      <td>-1.246577</td>\n    </tr>\n    <tr>\n      <th>2</th>\n      <td>-0.001080</td>\n      <td>0.743982</td>\n      <td>0.181609</td>\n      <td>0.222211</td>\n    </tr>\n    <tr>\n      <th>3</th>\n      <td>1.128793</td>\n      <td>1.311737</td>\n      <td>0.413221</td>\n      <td>-0.407329</td>\n    </tr>\n    <tr>\n      <th>4</th>\n      <td>0.642964</td>\n      <td>0.245997</td>\n      <td>-1.016977</td>\n      <td>-1.146116</td>\n    </tr>\n    <tr>\n      <th>5</th>\n      <td>-0.497794</td>\n      <td>-0.924391</td>\n      <td>-0.753743</td>\n      <td>1.559041</td>\n    </tr>\n  </tbody>\n</table>\n</div>"
     },
     "execution_count": 7,
     "metadata": {},
     "output_type": "execute_result"
    }
   ],
   "source": [
    "# Create a DataFrame with 6 row, 4 columns\n",
    "df = pd.DataFrame(np.random.randn(6, 4))\n",
    "df"
   ]
  },
  {
   "cell_type": "code",
   "execution_count": null,
   "id": "f456f539-614d-4c2c-b077-e13dd30cb208",
   "metadata": {},
   "outputs": [],
   "source": []
  }
 ],
 "metadata": {
  "kernelspec": {
   "display_name": "Python 3 (ipykernel)",
   "language": "python",
   "name": "python3"
  },
  "language_info": {
   "codemirror_mode": {
    "name": "ipython",
    "version": 3
   },
   "file_extension": ".py",
   "mimetype": "text/x-python",
   "name": "python",
   "nbconvert_exporter": "python",
   "pygments_lexer": "ipython3",
   "version": "3.11.3"
  }
 },
 "nbformat": 4,
 "nbformat_minor": 5
}
